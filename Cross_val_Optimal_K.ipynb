{
 "cells": [
  {
   "cell_type": "markdown",
   "id": "f3fd54a6-16b9-4a10-ad26-846fd25d2a7f",
   "metadata": {},
   "source": [
    "## Cross Validation Search for Optimal K"
   ]
  },
  {
   "cell_type": "code",
   "execution_count": 1,
   "id": "59a7d724-9598-41d3-9685-b0c283dda5ed",
   "metadata": {},
   "outputs": [],
   "source": [
    "import numpy as np\n",
    "from sklearn.neighbors import NearestNeighbors\n",
    "from sklearn.linear_model import LinearRegression\n",
    "from sklearn.model_selection import KFold\n",
    "from sklearn.datasets import make_blobs\n",
    "import matplotlib.pyplot as plt"
   ]
  },
  {
   "cell_type": "markdown",
   "id": "e42c7d1a-0f74-499d-be2d-0c26ab667957",
   "metadata": {},
   "source": [
    "#### Data Generating Process"
   ]
  },
  {
   "cell_type": "code",
   "execution_count": 2,
   "id": "0c7f4d0c-6c6e-4ddf-9c8f-9683639aa9ae",
   "metadata": {},
   "outputs": [],
   "source": [
    "# Simulate S1 and S2\n",
    "def simulate_S1_S2(num_points1, num_points2): \n",
    "    np.random.seed(26) # set random seed\n",
    "    \n",
    "    locations1 = np.random.rand(num_points1, 2) * 100\n",
    "\n",
    "    centers = [(30, 30), (70, 70), (30, 70), (70, 30)]  # Four clusters\n",
    "    locations2, _ = make_blobs(n_samples=num_points2, centers=centers, cluster_std=10.0, random_state=26)\n",
    "\n",
    "    locations2 = np.clip(locations2, 0, 100)\n",
    "\n",
    "    s1 = np.random.normal(50, 10, num_points1)  # Target support observations\n",
    "    s2 = np.random.normal(100, 50, num_points2) # Source support observations\n",
    "\n",
    "    return s1, locations1, s2, locations2\n",
    "\n",
    "S1, loc1, S2, loc2 = simulate_S1_S2(200, 350) # Increase data of s1 and s2 to 200 and 350\n",
    "\n",
    "# Simulate beta surface\n",
    "\n",
    "def create_surface(locations):\n",
    "    x = locations[:, 0]\n",
    "    y = locations[:, 1]\n",
    "    B = x + y  # True beta surface defined on target support S1\n",
    "    return B\n",
    "\n",
    "B = create_surface(loc1)\n",
    "\n",
    "# Number of neighbors for smoothing (DGP-specific)\n",
    "n_neighbor_dgp = 35\n",
    "\n",
    "smoothed_S2_to_S1 = np.zeros(len(S1))\n",
    "\n",
    "# Use KNN to smooth X values from S2 onto S1\n",
    "nbrs_S2 = NearestNeighbors(n_neighbors=n_neighbor_dgp).fit(loc2)\n",
    "\n",
    "for i in range(len(S1)):\n",
    "    # Find neighbors of S1 location i in S2\n",
    "    distances_S1_to_S2, indices_S1_to_S2 = nbrs_S2.kneighbors([loc1[i]])\n",
    "\n",
    "    # Aggregate the X values from S2 using a simple mean for the DGP (this is not the regression step)\n",
    "    smoothed_S2_to_S1[i] = np.mean(S2[indices_S1_to_S2[0]])\n",
    "\n",
    "y = B * smoothed_S2_to_S1  "
   ]
  },
  {
   "cell_type": "markdown",
   "id": "55f216cd-4141-4656-a010-0846884b36b9",
   "metadata": {},
   "source": [
    "### COS Local regression AND beta recovery"
   ]
  },
  {
   "cell_type": "code",
   "execution_count": 3,
   "id": "dcdfa992-cd57-4815-9e5d-54929892b712",
   "metadata": {},
   "outputs": [],
   "source": [
    "# Define functions to compute MSE\n",
    "def compute_mse(true_betas, recovered_betas):\n",
    "    mse = np.mean((true_betas - recovered_betas) ** 2)\n",
    "    return mse\n",
    "\n",
    "# Function for local regression and beta recovery\n",
    "def perform_local_regression(n_neighbor_est, loc1, loc2, S2, y):\n",
    "    recovered_betas = np.zeros(len(loc1))\n",
    "\n",
    "    for i in range(len(loc1)):\n",
    "        local_X = []\n",
    "        weights_X = []\n",
    "\n",
    "        # Initialize Nearest Neighbors model to find neighbors in S2 for current S1_i\n",
    "        nbrs_S2 = NearestNeighbors(n_neighbors=min(n_neighbor_est, len(loc2))).fit(loc2)\n",
    "        distances_S1_to_S2, indices_S1_to_S2 = nbrs_S2.kneighbors([loc1[i]])\n",
    "\n",
    "        # Compute weights for the selected neighbors in S2 based on distance to S1_i\n",
    "        for j, neighbor_index_S2 in enumerate(indices_S1_to_S2[0]):\n",
    "            dist_j_to_i = distances_S1_to_S2[0][j]\n",
    "            \n",
    "            weight = np.exp(-0.5 * (dist_j_to_i / 10) ** 2)\n",
    "\n",
    "            # Collect S2 observation and its weight\n",
    "            local_X.append(S2[neighbor_index_S2])\n",
    "            weights_X.append(weight)\n",
    "\n",
    "        local_X = np.array(local_X)\n",
    "        weights_X = np.array(weights_X)\n",
    "\n",
    "        # Apply the computed weights to the selected S2 observations (X values)\n",
    "        # This effectively smooths the S2 observations towards S1_i\n",
    "        weighted_X_i = np.sum(local_X * weights_X) / np.sum(weights_X)\n",
    "\n",
    "        # Perform local regression using the weighted S2 data at S1_i\n",
    "        nbrs_S1 = NearestNeighbors(n_neighbors=min(n_neighbor_est, len(loc1))).fit(loc1)  # Adjust n_neighbors\n",
    "        distances, indices = nbrs_S1.kneighbors([loc1[i]])\n",
    "\n",
    "        y_neighbors = y[indices[0]]\n",
    "        X_neighbors = weighted_X_i * np.ones(len(indices[0]))\n",
    "        weights_y = np.exp(-0.5 * (distances[0] / 10) ** 2)\n",
    "        W_y = np.sqrt(weights_y)\n",
    "\n",
    "        X_weighted = (X_neighbors * W_y).reshape(-1, 1)\n",
    "        y_weighted = y_neighbors * W_y\n",
    "\n",
    "        model = LinearRegression(fit_intercept=True)\n",
    "        model.fit(X_weighted, y_weighted)\n",
    "\n",
    "        # Store recovered beta\n",
    "        recovered_betas[i] = model.coef_[0]\n",
    "\n",
    "    return recovered_betas"
   ]
  },
  {
   "cell_type": "markdown",
   "id": "ecb24bd5-c14e-44e6-b37d-c4fea455680b",
   "metadata": {},
   "source": [
    "### Cross Validation routine"
   ]
  },
  {
   "cell_type": "code",
   "execution_count": 4,
   "id": "457406d3-2108-457a-9cb9-b801f313267a",
   "metadata": {},
   "outputs": [],
   "source": [
    "# Cross-Validation Function\n",
    "def cross_validation_k_fold(loc1, loc2, S2, y, B, k_values, n_splits=5):\n",
    "    kf = KFold(n_splits=n_splits, shuffle=True, random_state=26)\n",
    "    cv_mse_results = {k: [] for k in k_values}\n",
    "    \n",
    "    for train_index, test_index in kf.split(loc1):\n",
    "        loc1_train, loc1_test = loc1[train_index], loc1[test_index]\n",
    "        y_train, y_test = y[train_index], y[test_index]\n",
    "        B_test = B[test_index]  # True betas for comparison\n",
    "        \n",
    "        for k in k_values:\n",
    "            # Perform local regression to get recovered betas for the training set\n",
    "            recovered_betas_train = perform_local_regression(n_neighbor_est=min(k, len(loc1_train)), loc1=loc1_train, loc2=loc2, S2=S2, y=y_train)\n",
    "            \n",
    "            # Evaluate on the test set using indices specific to the test data\n",
    "            recovered_betas_test = perform_local_regression(n_neighbor_est=min(k, len(loc1_test)), loc1=loc1_test, loc2=loc2, S2=S2, y=y_test)\n",
    "            \n",
    "            # Calculate MSE on the test set\n",
    "            mse = compute_mse(B_test, recovered_betas_test)\n",
    "            cv_mse_results[k].append(mse)\n",
    "    \n",
    "    # Calculate mean MSE for each k\n",
    "    cv_mse_mean = {k: np.mean(cv_mse_results[k]) for k in k_values}\n",
    "    \n",
    "    return cv_mse_mean"
   ]
  },
  {
   "cell_type": "code",
   "execution_count": null,
   "id": "fb4259e6-ac61-4efa-a83c-fc0441f8c455",
   "metadata": {},
   "outputs": [],
   "source": [
    "# Perform cross-validation for different k values\n",
    "k_values = list(range(5, 200, 5)) # set search range of 5-200 with a stepsize of 5\n",
    "\n",
    "cv_mse_results = cross_validation_k_fold(loc1, loc2, S2, y, B, k_values)\n",
    "\n",
    "print(\"Cross-Validation MSE Results:\", cv_mse_results)\n",
    "\n",
    "# Plot Cross-Validation MSE vs k\n",
    "plt.figure(figsize=(10, 6))\n",
    "plt.plot(k_values, list(cv_mse_results.values()), marker='o', linestyle='-', color='green', label='CV MSE')\n",
    "plt.axvline(min(cv_mse_results, key=cv_mse_results.get), color='red', linestyle='--', label=f'Optimal k (CV MSE)')\n",
    "plt.xlabel('Number of Neighbors (k)')\n",
    "plt.ylabel('Cross-Validation MSE')\n",
    "plt.title('Cross-Validation MSE vs Number of Neighbors (k)')\n",
    "plt.legend()\n",
    "plt.grid(True)\n",
    "plt.show()\n"
   ]
  },
  {
   "cell_type": "markdown",
   "id": "ce46993d-8116-4cc7-b2d8-6bed0509dc6d",
   "metadata": {},
   "source": [
    "### Optimal K Value"
   ]
  },
  {
   "cell_type": "code",
   "execution_count": 6,
   "id": "6113a4af-9492-4569-a9da-84545d7bac76",
   "metadata": {},
   "outputs": [
    {
     "data": {
      "text/plain": [
       "40"
      ]
     },
     "execution_count": 6,
     "metadata": {},
     "output_type": "execute_result"
    }
   ],
   "source": [
    "min(cv_mse_results, key=cv_mse_results.get)\n"
   ]
  },
  {
   "cell_type": "code",
   "execution_count": null,
   "id": "8a13113e-05b2-474e-a29a-34a4231deaa9",
   "metadata": {},
   "outputs": [],
   "source": []
  },
  {
   "cell_type": "code",
   "execution_count": null,
   "id": "986b1c4b-3794-4ded-9e59-14936ee1f549",
   "metadata": {},
   "outputs": [],
   "source": []
  },
  {
   "cell_type": "code",
   "execution_count": null,
   "id": "a02a06fb-706c-44ba-acdc-9bc2fe4c1f0f",
   "metadata": {},
   "outputs": [],
   "source": []
  },
  {
   "cell_type": "code",
   "execution_count": null,
   "id": "1ba7b15f-04c9-4b16-b1bf-33a9dea25b1a",
   "metadata": {},
   "outputs": [],
   "source": []
  },
  {
   "cell_type": "code",
   "execution_count": null,
   "id": "6b037860-88ed-4393-a31e-d19fa294a369",
   "metadata": {},
   "outputs": [],
   "source": []
  },
  {
   "cell_type": "code",
   "execution_count": null,
   "id": "7956e32a-2568-4f08-91e4-8bb698743f88",
   "metadata": {},
   "outputs": [],
   "source": []
  },
  {
   "cell_type": "code",
   "execution_count": null,
   "id": "162cbcc1-bb87-41f9-8838-c452d5306811",
   "metadata": {},
   "outputs": [],
   "source": []
  }
 ],
 "metadata": {
  "kernelspec": {
   "display_name": "Python 3 (ipykernel)",
   "language": "python",
   "name": "python3"
  },
  "language_info": {
   "codemirror_mode": {
    "name": "ipython",
    "version": 3
   },
   "file_extension": ".py",
   "mimetype": "text/x-python",
   "name": "python",
   "nbconvert_exporter": "python",
   "pygments_lexer": "ipython3",
   "version": "3.12.0"
  }
 },
 "nbformat": 4,
 "nbformat_minor": 5
}
